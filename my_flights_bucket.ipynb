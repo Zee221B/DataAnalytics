{
 "cells": [
  {
   "cell_type": "code",
   "execution_count": 1,
   "metadata": {},
   "outputs": [
    {
     "name": "stdout",
     "output_type": "stream",
     "text": [
      "         Year  Month  DayofMonth  DayOfWeek  DepTime  CRSDepTime  ArrTime   \n",
      "0        1987     10          14          3    741.0         730    912.0  \\\n",
      "1        1987     10          15          4    729.0         730    903.0   \n",
      "2        1987     10          17          6    741.0         730    918.0   \n",
      "3        1987     10          18          7    729.0         730    847.0   \n",
      "4        1987     10          19          1    749.0         730    922.0   \n",
      "...       ...    ...         ...        ...      ...         ...      ...   \n",
      "1311821  1987     12          11          5   1530.0        1530   1825.0   \n",
      "1311822  1987     12          13          7   1530.0        1530   1815.0   \n",
      "1311823  1987     12          14          1   1530.0        1530   1807.0   \n",
      "1311824  1987     12           1          2   1525.0        1525   1643.0   \n",
      "1311825  1987     12           2          3   1540.0        1525   1706.0   \n",
      "\n",
      "         CRSArrTime UniqueCarrier  FlightNum  ...  TaxiIn  TaxiOut  Cancelled   \n",
      "0               849            PS       1451  ...     NaN      NaN          0  \\\n",
      "1               849            PS       1451  ...     NaN      NaN          0   \n",
      "2               849            PS       1451  ...     NaN      NaN          0   \n",
      "3               849            PS       1451  ...     NaN      NaN          0   \n",
      "4               849            PS       1451  ...     NaN      NaN          0   \n",
      "...             ...           ...        ...  ...     ...      ...        ...   \n",
      "1311821        1823            CO        638  ...     NaN      NaN          0   \n",
      "1311822        1823            CO        638  ...     NaN      NaN          0   \n",
      "1311823        1823            CO        638  ...     NaN      NaN          0   \n",
      "1311824        1638            CO        639  ...     NaN      NaN          0   \n",
      "1311825        1638            CO        639  ...     NaN      NaN          0   \n",
      "\n",
      "         CancellationCode  Diverted  CarrierDelay WeatherDelay NASDelay   \n",
      "0                     NaN         0           NaN          NaN      NaN  \\\n",
      "1                     NaN         0           NaN          NaN      NaN   \n",
      "2                     NaN         0           NaN          NaN      NaN   \n",
      "3                     NaN         0           NaN          NaN      NaN   \n",
      "4                     NaN         0           NaN          NaN      NaN   \n",
      "...                   ...       ...           ...          ...      ...   \n",
      "1311821               NaN         0           NaN          NaN      NaN   \n",
      "1311822               NaN         0           NaN          NaN      NaN   \n",
      "1311823               NaN         0           NaN          NaN      NaN   \n",
      "1311824               NaN         0           NaN          NaN      NaN   \n",
      "1311825               NaN         0           NaN          NaN      NaN   \n",
      "\n",
      "         SecurityDelay  LateAircraftDelay  \n",
      "0                  NaN                NaN  \n",
      "1                  NaN                NaN  \n",
      "2                  NaN                NaN  \n",
      "3                  NaN                NaN  \n",
      "4                  NaN                NaN  \n",
      "...                ...                ...  \n",
      "1311821            NaN                NaN  \n",
      "1311822            NaN                NaN  \n",
      "1311823            NaN                NaN  \n",
      "1311824            NaN                NaN  \n",
      "1311825            NaN                NaN  \n",
      "\n",
      "[1311826 rows x 29 columns]\n"
     ]
    }
   ],
   "source": [
    "import pandas as pd\n",
    "\n",
    "my_flights = pd.read_csv (r\"C:\\Users\\zbe17\\Desktop\\AiCore_Projects\\DataAnalytics\\FlightsCSV\\1987.csv\")\n",
    "\n",
    "\n",
    "print(my_flights)\n"
   ]
  }
 ],
 "metadata": {
  "kernelspec": {
   "display_name": "dc_env",
   "language": "python",
   "name": "python3"
  },
  "language_info": {
   "codemirror_mode": {
    "name": "ipython",
    "version": 3
   },
   "file_extension": ".py",
   "mimetype": "text/x-python",
   "name": "python",
   "nbconvert_exporter": "python",
   "pygments_lexer": "ipython3",
   "version": "3.11.2"
  },
  "orig_nbformat": 4
 },
 "nbformat": 4,
 "nbformat_minor": 2
}
