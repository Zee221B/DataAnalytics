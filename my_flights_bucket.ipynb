{
 "cells": [
  {
   "cell_type": "code",
   "execution_count": 3,
   "metadata": {},
   "outputs": [
    {
     "ename": "NameError",
     "evalue": "name 'DatabaseConnector' is not defined",
     "output_type": "error",
     "traceback": [
      "\u001b[1;31m---------------------------------------------------------------------------\u001b[0m",
      "\u001b[1;31mNameError\u001b[0m                                 Traceback (most recent call last)",
      "\u001b[1;32mc:\\Users\\zbe17\\Desktop\\AiCore_Projects\\DataAnalytics\\my_flights_bucket.ipynb Cell 1\u001b[0m line \u001b[0;36m9\n\u001b[0;32m      <a href='vscode-notebook-cell:/c%3A/Users/zbe17/Desktop/AiCore_Projects/DataAnalytics/my_flights_bucket.ipynb#W0sZmlsZQ%3D%3D?line=2'>3</a>\u001b[0m \u001b[39mimport\u001b[39;00m \u001b[39mboto3\u001b[39;00m\n\u001b[0;32m      <a href='vscode-notebook-cell:/c%3A/Users/zbe17/Desktop/AiCore_Projects/DataAnalytics/my_flights_bucket.ipynb#W0sZmlsZQ%3D%3D?line=4'>5</a>\u001b[0m  \u001b[39m# from database_utils import DatabaseConnector \u001b[39;00m\n\u001b[0;32m      <a href='vscode-notebook-cell:/c%3A/Users/zbe17/Desktop/AiCore_Projects/DataAnalytics/my_flights_bucket.ipynb#W0sZmlsZQ%3D%3D?line=5'>6</a>\u001b[0m  \u001b[39m# from database_utils import DataExtractor\u001b[39;00m\n\u001b[0;32m      <a href='vscode-notebook-cell:/c%3A/Users/zbe17/Desktop/AiCore_Projects/DataAnalytics/my_flights_bucket.ipynb#W0sZmlsZQ%3D%3D?line=6'>7</a>\u001b[0m  \u001b[39m#  from database_utils import DataCleaning\u001b[39;00m\n\u001b[1;32m----> <a href='vscode-notebook-cell:/c%3A/Users/zbe17/Desktop/AiCore_Projects/DataAnalytics/my_flights_bucket.ipynb#W0sZmlsZQ%3D%3D?line=8'>9</a>\u001b[0m database_connector \u001b[39m=\u001b[39m DatabaseConnector()\n\u001b[0;32m     <a href='vscode-notebook-cell:/c%3A/Users/zbe17/Desktop/AiCore_Projects/DataAnalytics/my_flights_bucket.ipynb#W0sZmlsZQ%3D%3D?line=9'>10</a>\u001b[0m data_extractor \u001b[39m=\u001b[39m DataExtractor()\n\u001b[0;32m     <a href='vscode-notebook-cell:/c%3A/Users/zbe17/Desktop/AiCore_Projects/DataAnalytics/my_flights_bucket.ipynb#W0sZmlsZQ%3D%3D?line=10'>11</a>\u001b[0m data_cleaner \u001b[39m=\u001b[39m DataCleaning()\n",
      "\u001b[1;31mNameError\u001b[0m: name 'DatabaseConnector' is not defined"
     ]
    }
   ],
   "source": [
    "import pandas as pd\n",
    "import requests\n",
    "import boto3\n",
    "\n",
    "from database_utils import DatabaseConnector \n",
    "from database_utils import DataExtractor\n",
    "from database_utils import DataCleaning\n",
    "\n",
    "database_connector = DatabaseConnector()\n",
    "data_extractor = DataExtractor()\n",
    "data_cleaner = DataCleaning()\n",
    "\n",
    "data_extractor = DataExtractor()\n",
    "my_flights_bucket = data_extractor.extract_from_s3('s3://myflightsbucket/1987.csv', 's3://myflightsbucket/1989.csv', 's3://myflightsbucket/1990.csv', 's3://myflightsbucket/1991.csv', 's3://myflightsbucket/1992.csv',\n",
    "                                                   's3://myflightsbucket/1993.csv', 's3://myflightsbucket/1994.csv', 's3://myflightsbucket/1995.csv', 's3://myflightsbucket/1996.csv' )\n",
    "\n",
    "\n",
    "print(my_flights_bucket)\n"
   ]
  }
 ],
 "metadata": {
  "kernelspec": {
   "display_name": "dc_env",
   "language": "python",
   "name": "python3"
  },
  "language_info": {
   "codemirror_mode": {
    "name": "ipython",
    "version": 3
   },
   "file_extension": ".py",
   "mimetype": "text/x-python",
   "name": "python",
   "nbconvert_exporter": "python",
   "pygments_lexer": "ipython3",
   "version": "3.11.2"
  },
  "orig_nbformat": 4
 },
 "nbformat": 4,
 "nbformat_minor": 2
}
