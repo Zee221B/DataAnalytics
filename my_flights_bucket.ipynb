{
 "cells": [
  {
   "cell_type": "code",
   "execution_count": 1,
   "metadata": {},
   "outputs": [
    {
     "ename": "IndentationError",
     "evalue": "expected an indented block after class definition on line 8 (database_utils.py, line 9)",
     "output_type": "error",
     "traceback": [
      "Traceback \u001b[1;36m(most recent call last)\u001b[0m:\n",
      "\u001b[0m  File \u001b[0;32mc:\\Users\\zbe17\\miniconda3\\envs\\dc_env\\Lib\\site-packages\\IPython\\core\\interactiveshell.py:3505\u001b[0m in \u001b[0;35mrun_code\u001b[0m\n    exec(code_obj, self.user_global_ns, self.user_ns)\u001b[0m\n",
      "\u001b[1;36m  Cell \u001b[1;32mIn[1], line 5\u001b[1;36m\n\u001b[1;33m    from database_utils import DatabaseConnector\u001b[1;36m\n",
      "\u001b[1;36m  File \u001b[1;32mc:\\Users\\zbe17\\Desktop\\AiCore_Projects\\DataAnalytics\\database_utils.py:9\u001b[1;36m\u001b[0m\n\u001b[1;33m    \u001b[0m\n\u001b[1;37m    ^\u001b[0m\n\u001b[1;31mIndentationError\u001b[0m\u001b[1;31m:\u001b[0m expected an indented block after class definition on line 8\n"
     ]
    }
   ],
   "source": [
    "import pandas as pd\n",
    "import requests\n",
    "import boto3\n",
    "\n",
    "from database_utils import DatabaseConnector \n",
    "from database_utils import DataExtractor\n",
    "from database_utils import DataCleaning\n",
    "\n",
    "database_connector = DatabaseConnector()\n",
    "data_extractor = DataExtractor()\n",
    "data_cleaning = DataCleaning()\n",
    "\n",
    "my_flights_bucket = data_extractor.extract_from_s3(s3_1987, s3_1989, s3_1990, s3_1991, s3_1992, s3_1993, s3_1994, s3_1995, s3_1996)\n",
    "\n",
    "\n",
    "print(my_flights_bucket)\n"
   ]
  }
 ],
 "metadata": {
  "kernelspec": {
   "display_name": "dc_env",
   "language": "python",
   "name": "python3"
  },
  "language_info": {
   "codemirror_mode": {
    "name": "ipython",
    "version": 3
   },
   "file_extension": ".py",
   "mimetype": "text/x-python",
   "name": "python",
   "nbconvert_exporter": "python",
   "pygments_lexer": "ipython3",
   "version": "3.11.2"
  },
  "orig_nbformat": 4
 },
 "nbformat": 4,
 "nbformat_minor": 2
}
